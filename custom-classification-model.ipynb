{
 "cells": [
  {
   "cell_type": "code",
   "execution_count": 4437,
   "metadata": {},
   "outputs": [],
   "source": [
    "import torch\n",
    "from torch import nn\n",
    "import matplotlib.pyplot as plt\n",
    "from sklearn.model_selection import train_test_split"
   ]
  },
  {
   "cell_type": "code",
   "execution_count": 4438,
   "metadata": {},
   "outputs": [
    {
     "data": {
      "text/plain": [
       "'cuda'"
      ]
     },
     "execution_count": 4438,
     "metadata": {},
     "output_type": "execute_result"
    }
   ],
   "source": [
    "device = 'cuda' if torch.cuda.is_available() else 'cpu'\n",
    "device"
   ]
  },
  {
   "cell_type": "code",
   "execution_count": 4439,
   "metadata": {},
   "outputs": [],
   "source": [
    "import csv"
   ]
  },
  {
   "cell_type": "code",
   "execution_count": 4440,
   "metadata": {},
   "outputs": [],
   "source": [
    "data = []\n",
    "atributes = []\n",
    "labels = []\n",
    "\n",
    "with open('frequency_data//frequencyFeatures.csv', 'r', newline='') as file:\n",
    "    reader = csv.reader(file)\n",
    "    for index, line in enumerate(reader):\n",
    "        if index == 0:\n",
    "            atributes = line[1:]\n",
    "        else:\n",
    "            if (line[1] not in labels):\n",
    "                labels.append(line[1])\n",
    "            data.append(line[1:])"
   ]
  },
  {
   "cell_type": "code",
   "execution_count": 4441,
   "metadata": {},
   "outputs": [],
   "source": [
    "y = []\n",
    "X = []\n",
    "for line in data:\n",
    "    y.append(labels.index(line[0]))\n",
    "    X.append([float(s) for s in line[1:]])"
   ]
  },
  {
   "cell_type": "code",
   "execution_count": 4442,
   "metadata": {},
   "outputs": [],
   "source": [
    "y = torch.tensor(y)\n",
    "X = torch.tensor(X)"
   ]
  },
  {
   "cell_type": "code",
   "execution_count": 4443,
   "metadata": {},
   "outputs": [],
   "source": [
    "RANDOM_SEED = 42\n",
    "\n",
    "X_tr, X_te, y_tr, y_te = train_test_split(X, y, test_size=0.2, random_state=RANDOM_SEED)"
   ]
  },
  {
   "cell_type": "code",
   "execution_count": 4444,
   "metadata": {},
   "outputs": [],
   "source": [
    "X_tr = X_tr.to(device)\n",
    "X_te = X_te.to(device)\n",
    "y_tr = y_tr.to(device)\n",
    "y_te = y_te.to(device)"
   ]
  },
  {
   "cell_type": "code",
   "execution_count": 4445,
   "metadata": {},
   "outputs": [
    {
     "data": {
      "text/plain": [
       "torch.Size([1600, 170])"
      ]
     },
     "execution_count": 4445,
     "metadata": {},
     "output_type": "execute_result"
    }
   ],
   "source": [
    "X_tr.shape"
   ]
  },
  {
   "cell_type": "code",
   "execution_count": 4446,
   "metadata": {},
   "outputs": [],
   "source": [
    "class Model(nn.Module):\n",
    "    def __init__(self):\n",
    "        super().__init__()\n",
    "        self.layer_stack = nn.Sequential(\n",
    "            nn.Linear(in_features=170, out_features=30),\n",
    "            nn.BatchNorm1d(30),\n",
    "            nn.ReLU(),\n",
    "            nn.Dropout(p=0.05),\n",
    "            nn.Linear(in_features=30, out_features=8),\n",
    "        )\n",
    "\n",
    "    def forward(self, x):\n",
    "        return self.layer_stack(x)"
   ]
  },
  {
   "cell_type": "code",
   "execution_count": 4447,
   "metadata": {},
   "outputs": [
    {
     "data": {
      "text/plain": [
       "Model(\n",
       "  (layer_stack): Sequential(\n",
       "    (0): Linear(in_features=170, out_features=30, bias=True)\n",
       "    (1): BatchNorm1d(30, eps=1e-05, momentum=0.1, affine=True, track_running_stats=True)\n",
       "    (2): ReLU()\n",
       "    (3): Dropout(p=0.05, inplace=False)\n",
       "    (4): Linear(in_features=30, out_features=8, bias=True)\n",
       "  )\n",
       ")"
      ]
     },
     "execution_count": 4447,
     "metadata": {},
     "output_type": "execute_result"
    }
   ],
   "source": [
    "model = Model().to(device)\n",
    "model"
   ]
  },
  {
   "cell_type": "code",
   "execution_count": 4448,
   "metadata": {},
   "outputs": [],
   "source": [
    "loss_fn = nn.CrossEntropyLoss()\n",
    "optimizer = torch.optim.Adam(model.parameters(), lr=0.001)"
   ]
  },
  {
   "cell_type": "code",
   "execution_count": 4449,
   "metadata": {},
   "outputs": [],
   "source": [
    "def accuracy_fn(y_pred, y_target):\n",
    "    correct = torch.eq(y_pred, y_target).sum().item()\n",
    "\n",
    "    return (correct/len(y_pred))*100"
   ]
  },
  {
   "cell_type": "code",
   "execution_count": 4450,
   "metadata": {},
   "outputs": [
    {
     "name": "stdout",
     "output_type": "stream",
     "text": [
      "Iteration 0: TRAIN LOSS: 2.15232 | TRAIN ACCURACY: 2.4% | TEST_LOSS: 4.92592 | TEST ACCURACY: 12.5%\n",
      "Iteration 100: TRAIN LOSS: 0.62429 | TRAIN ACCURACY: 86.5% | TEST_LOSS: 0.68204 | TEST ACCURACY: 81.8%\n",
      "Iteration 200: TRAIN LOSS: 0.30489 | TRAIN ACCURACY: 92.6% | TEST_LOSS: 0.39435 | TEST ACCURACY: 87.2%\n",
      "Iteration 300: TRAIN LOSS: 0.19410 | TRAIN ACCURACY: 95.8% | TEST_LOSS: 0.30307 | TEST ACCURACY: 89.0%\n",
      "Iteration 400: TRAIN LOSS: 0.11638 | TRAIN ACCURACY: 98.6% | TEST_LOSS: 0.24758 | TEST ACCURACY: 91.2%\n",
      "Iteration 500: TRAIN LOSS: 0.05238 | TRAIN ACCURACY: 99.7% | TEST_LOSS: 0.14119 | TEST ACCURACY: 96.5%\n",
      "Iteration 600: TRAIN LOSS: 0.02961 | TRAIN ACCURACY: 99.9% | TEST_LOSS: 0.12876 | TEST ACCURACY: 95.0%\n",
      "Iteration 700: TRAIN LOSS: 0.02110 | TRAIN ACCURACY: 100.0% | TEST_LOSS: 0.09127 | TEST ACCURACY: 97.0%\n",
      "Iteration 800: TRAIN LOSS: 0.01414 | TRAIN ACCURACY: 99.9% | TEST_LOSS: 0.09698 | TEST ACCURACY: 96.5%\n",
      "Iteration 900: TRAIN LOSS: 0.01185 | TRAIN ACCURACY: 99.9% | TEST_LOSS: 0.11108 | TEST ACCURACY: 95.5%\n",
      "Iteration 1000: TRAIN LOSS: 0.00814 | TRAIN ACCURACY: 99.94% | TEST_LOSS: 0.07709 | TEST ACCURACY: 97.50%\n"
     ]
    }
   ],
   "source": [
    "torch.manual_seed(42)\n",
    "\n",
    "i_count = []\n",
    "train_loss_values, test_loss_values = [], []\n",
    "iterations = 1000\n",
    "\n",
    "\n",
    "for i in range(iterations):\n",
    "    model.train()\n",
    "\n",
    "    logits = model(X_tr)\n",
    "    logits_pred = torch.softmax(logits, dim=1).argmax(dim=1)\n",
    "\n",
    "    acc = accuracy_fn(y_target=y_tr, y_pred=logits_pred)\n",
    "    loss = loss_fn(logits, y_tr)\n",
    "    train_loss_values.append(loss.item())\n",
    "\n",
    "    optimizer.zero_grad()\n",
    "\n",
    "    loss.backward()\n",
    "\n",
    "    optimizer.step()\n",
    "\n",
    "    i_count.append(i)\n",
    "\n",
    "    model.eval()\n",
    "    with torch.inference_mode():\n",
    "        test_logits = model(X_te)\n",
    "        test_logits_pred = torch.softmax(test_logits, dim=1).argmax(dim=1)\n",
    "        test_loss = loss_fn(test_logits, y_te)\n",
    "        test_loss_values.append(test_loss.item())\n",
    "        test_acc = accuracy_fn(y_target=y_te, y_pred=test_logits_pred)\n",
    "\n",
    "    if (i) % 100 == 0:\n",
    "        print(f'Iteration {i}: TRAIN LOSS: {loss:.5f} | TRAIN ACCURACY: {acc:.1f}% | TEST_LOSS: {test_loss:.5f} | TEST ACCURACY: {test_acc:.1f}%')\n",
    "\n",
    "print(f'Iteration {i+1}: TRAIN LOSS: {loss:.5f} | TRAIN ACCURACY: {acc:.2f}% | TEST_LOSS: {test_loss:.5f} | TEST ACCURACY: {test_acc:.2f}%')\n"
   ]
  },
  {
   "cell_type": "code",
   "execution_count": 4451,
   "metadata": {},
   "outputs": [
    {
     "data": {
      "text/plain": [
       "0.06489326804876328"
      ]
     },
     "execution_count": 4451,
     "metadata": {},
     "output_type": "execute_result"
    }
   ],
   "source": [
    "min(test_loss_values)"
   ]
  },
  {
   "cell_type": "code",
   "execution_count": 4461,
   "metadata": {},
   "outputs": [
    {
     "data": {
      "image/png": "[encoded data removed]",
      "text/plain": [
       "<Figure size 1200x500 with 1 Axes>"
      ]
     },
     "metadata": {},
     "output_type": "display_data"
    }
   ],
   "source": [
    "plt.figure(figsize=(12,5))\n",
    "plt.plot(i_count, train_loss_values, label='Train loss')\n",
    "plt.plot(i_count, test_loss_values, label='Test loss')\n",
    "plt.title(\"Train/Test loss\")\n",
    "plt.ylabel(\"Loss\")\n",
    "plt.xlabel(\"Iteration\")\n",
    "plt.legend();"
   ]
  }
 ],
 "metadata": {
  "kernelspec": {
   "display_name": "Python 3",
   "language": "python",
   "name": "python3"
  },
  "language_info": {
   "codemirror_mode": {
    "name": "ipython",
    "version": 3
   },
   "file_extension": ".py",
   "mimetype": "text/x-python",
   "name": "python",
   "nbconvert_exporter": "python",
   "pygments_lexer": "ipython3",
   "version": "3.12.1"
  }
 },
 "nbformat": 4,
 "nbformat_minor": 2
}
